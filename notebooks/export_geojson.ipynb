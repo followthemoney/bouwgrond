{
 "cells": [
  {
   "cell_type": "code",
   "execution_count": 1,
   "id": "692d25e0-b539-400d-976c-95066b324644",
   "metadata": {},
   "outputs": [
    {
     "name": "stderr",
     "output_type": "stream",
     "text": [
      "ERROR 1: PROJ: proj_create_from_database: Open of /opt/conda/share/proj failed\n"
     ]
    }
   ],
   "source": [
    "import geopandas as gpd\n",
    "import functools as ft\n",
    "import fiona\n",
    "import pandas as pd"
   ]
  },
  {
   "cell_type": "code",
   "execution_count": 50,
   "id": "82419fe9-db9b-4de1-9683-358c6d92d464",
   "metadata": {},
   "outputs": [],
   "source": [
    "dfs = []"
   ]
  },
  {
   "cell_type": "code",
   "execution_count": 52,
   "id": "4fcbeea3-7063-4cd9-b3ec-d4d06b717ce7",
   "metadata": {},
   "outputs": [
    {
     "data": {
      "text/plain": [
       "6137"
      ]
     },
     "execution_count": 52,
     "metadata": {},
     "output_type": "execute_result"
    }
   ],
   "source": [
    "df = gpd.read_file('../arcgis/bouwgrond/bouwgrond.gdb/', layer=f'VU_variant1_polygon')\n",
    "df = df.to_crs('4326')\n",
    "df['name'] = 'Variant 1'\n",
    "df['variant'] = 'Geen verdichting en klimaat'\n",
    "df['Id'] = df['Id'].astype(str)\n",
    "df['Id'] = df['Id'] + '_' + df['name']\n",
    "dfs.append(df)\n",
    "len(df)"
   ]
  },
  {
   "cell_type": "code",
   "execution_count": 53,
   "id": "51e242f7-bdbf-48ed-9fda-5dce904c0edb",
   "metadata": {},
   "outputs": [],
   "source": [
    "df = gpd.GeoDataFrame(pd.concat( dfs, ignore_index=True) )"
   ]
  },
  {
   "cell_type": "code",
   "execution_count": 54,
   "id": "d71bfe96-b838-4917-98ed-7a78ba0e3176",
   "metadata": {},
   "outputs": [],
   "source": [
    "df[['geometry', 'Id', 'name', 'variant']].to_file(\"../data/varianten.geojson\", driver='GeoJSON')"
   ]
  },
  {
   "cell_type": "code",
   "execution_count": 55,
   "id": "720ba234-37e3-4a2e-9120-961a9fecbece",
   "metadata": {},
   "outputs": [
    {
     "data": {
      "text/plain": [
       "9454"
      ]
     },
     "execution_count": 55,
     "metadata": {},
     "output_type": "execute_result"
    }
   ],
   "source": [
    "len(df)"
   ]
  }
 ],
 "metadata": {
  "kernelspec": {
   "display_name": "Python 3 (ipykernel)",
   "language": "python",
   "name": "python3"
  },
  "language_info": {
   "codemirror_mode": {
    "name": "ipython",
    "version": 3
   },
   "file_extension": ".py",
   "mimetype": "text/x-python",
   "name": "python",
   "nbconvert_exporter": "python",
   "pygments_lexer": "ipython3",
   "version": "3.10.8"
  }
 },
 "nbformat": 4,
 "nbformat_minor": 5
}
